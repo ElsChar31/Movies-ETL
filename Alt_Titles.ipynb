{
 "cells": [
  {
   "cell_type": "code",
   "execution_count": null,
   "id": "052c6b29",
   "metadata": {},
   "outputs": [],
   "source": [
    "def clean_movie(movie):\n",
    "    \n",
    "    movie = dict(movie) #create a non-destructive copy\n",
    "    \n",
    "    alt_titles = {}\n",
    "    \n",
    "    return movie"
   ]
  },
  {
   "cell_type": "code",
   "execution_count": null,
   "id": "56222256",
   "metadata": {},
   "outputs": [],
   "source": [
    "def clean_movie(movie):\n",
    "    \n",
    "    movie = dict(movie) #create a non-destructive copy\n",
    "    \n",
    "    alt_titles = {}\n",
    "    \n",
    "    for key in ['Also known as','Arabic','Cantonese','Chinese','French',\n",
    "                \n",
    "                'Hangul','Hebrew','Hepburn','Japanese','Literally',\n",
    "                \n",
    "                'Mandarin','McCune–Reischauer','Original title','Polish',\n",
    "                \n",
    "                'Revised Romanization','Romanized','Russian',\n",
    "                \n",
    "                'Simplified','Traditional','Yiddish']:\n",
    "\n",
    "        if key in movie:\n",
    "            \n",
    "            alt_titles[key] = movie[key]\n",
    "            \n",
    "            movie.pop(key)\n",
    "        \n",
    "        if len(alt_titles) > 0:\n",
    "            \n",
    "        movie['alt_titles'] = alt_titles\n",
    "    \n",
    "    return movie"
   ]
  },
  {
   "cell_type": "code",
   "execution_count": null,
   "id": "3a884cd6",
   "metadata": {},
   "outputs": [],
   "source": [
    "clean_movies = [clean_movie(movie) for movie in wiki_movies]"
   ]
  },
  {
   "cell_type": "code",
   "execution_count": null,
   "id": "c766140f",
   "metadata": {},
   "outputs": [],
   "source": [
    "wiki_movies_df = pd.DataFrame(clean_movies)\n",
    "\n",
    "sorted(wiki_movies_df.columns.tolist())"
   ]
  }
 ],
 "metadata": {
  "kernelspec": {
   "display_name": "Pythondata",
   "language": "python",
   "name": "pythondata"
  },
  "language_info": {
   "codemirror_mode": {
    "name": "ipython",
    "version": 3
   },
   "file_extension": ".py",
   "mimetype": "text/x-python",
   "name": "python",
   "nbconvert_exporter": "python",
   "pygments_lexer": "ipython3",
   "version": "3.7.13"
  }
 },
 "nbformat": 4,
 "nbformat_minor": 5
}
